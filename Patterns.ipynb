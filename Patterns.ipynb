{
 "cells": [
  {
   "cell_type": "code",
   "execution_count": 1,
   "id": "153156b5",
   "metadata": {},
   "outputs": [],
   "source": [
    "# Pattern in square form"
   ]
  },
  {
   "cell_type": "code",
   "execution_count": 2,
   "id": "95e08642",
   "metadata": {},
   "outputs": [
    {
     "name": "stdout",
     "output_type": "stream",
     "text": [
      "enter the number here:  5\n",
      "* * * * * \n",
      "* * * * * \n",
      "* * * * * \n",
      "* * * * * \n"
     ]
    }
   ],
   "source": [
    "n= int(input(\"enter the number here:  \"))\n",
    "\n",
    "\n",
    "i=1\n",
    "while(i<n):\n",
    "    j=1\n",
    "    while(j<=n):\n",
    "        print(\"*\", end=' ')\n",
    "        \n",
    "        j+=1\n",
    "    print()    \n",
    "    i+=1   \n",
    "   "
   ]
  },
  {
   "cell_type": "code",
   "execution_count": 3,
   "id": "2982faa2",
   "metadata": {},
   "outputs": [
    {
     "name": "stdout",
     "output_type": "stream",
     "text": [
      "enter the number here:  5\n",
      "5 5 5 5 5 \n",
      "5 5 5 5 5 \n",
      "5 5 5 5 5 \n",
      "5 5 5 5 5 \n",
      "5 5 5 5 5 \n"
     ]
    }
   ],
   "source": [
    "n= int(input(\"enter the number here:  \"))\n",
    "\n",
    "\n",
    "i=1\n",
    "while(i<=n):\n",
    "    j=1\n",
    "    while(j<=n):\n",
    "        \n",
    "        print(n, end=' ')\n",
    "        j+=1\n",
    "         \n",
    "    print()    \n",
    "    i+=1   "
   ]
  },
  {
   "cell_type": "code",
   "execution_count": 4,
   "id": "54ce0e52",
   "metadata": {},
   "outputs": [
    {
     "name": "stdout",
     "output_type": "stream",
     "text": [
      "enter the number here:  5\n",
      "1 1 1 1 1 \n",
      "2 2 2 2 2 \n",
      "3 3 3 3 3 \n",
      "4 4 4 4 4 \n",
      "5 5 5 5 5 \n"
     ]
    }
   ],
   "source": [
    "n= int(input(\"enter the number here:  \"))\n",
    "\n",
    "\n",
    "i=1\n",
    "while(i<=n):\n",
    "    j=1\n",
    "    while(j<=n):\n",
    "        \n",
    "        j+=1\n",
    "        print(i, end=' ')\n",
    "        \n",
    "    print()    \n",
    "    i+=1   \n",
    "   "
   ]
  },
  {
   "cell_type": "code",
   "execution_count": 5,
   "id": "55569265",
   "metadata": {},
   "outputs": [
    {
     "name": "stdout",
     "output_type": "stream",
     "text": [
      "enter the number here:  5\n",
      "1 2 3 4 5 \n",
      "1 2 3 4 5 \n",
      "1 2 3 4 5 \n",
      "1 2 3 4 5 \n",
      "1 2 3 4 5 \n"
     ]
    }
   ],
   "source": [
    "n= int(input(\"enter the number here:  \"))\n",
    "\n",
    "\n",
    "i=1\n",
    "while(i<=n):\n",
    "    j=1\n",
    "    while(j<=n):\n",
    "        \n",
    "        print(j, end=' ')\n",
    "        j+=1\n",
    "        \n",
    "    print()    \n",
    "    i+=1   \n",
    "   "
   ]
  },
  {
   "cell_type": "code",
   "execution_count": 6,
   "id": "fd17a5c6",
   "metadata": {},
   "outputs": [
    {
     "name": "stdout",
     "output_type": "stream",
     "text": [
      "enter the number here:  5\n",
      "1 2 3 4 5 \n",
      "2 3 4 5 6 \n",
      "3 4 5 6 7 \n",
      "4 5 6 7 8 \n",
      "5 6 7 8 9 \n"
     ]
    }
   ],
   "source": [
    "n= int(input(\"enter the number here:  \"))\n",
    "\n",
    "\n",
    "i=1\n",
    "while(i<=n):\n",
    "    j=1\n",
    "    while(j<=n):\n",
    "        \n",
    "        print(i+j-1, end=' ')\n",
    "        j+=1\n",
    "        \n",
    "    print()    \n",
    "    i+=1   "
   ]
  },
  {
   "cell_type": "code",
   "execution_count": 7,
   "id": "054586f8",
   "metadata": {},
   "outputs": [
    {
     "name": "stdout",
     "output_type": "stream",
     "text": [
      "enter the number here:  5\n",
      "5 5 5 5 5 \n",
      "4 4 4 4 4 \n",
      "3 3 3 3 3 \n",
      "2 2 2 2 2 \n",
      "1 1 1 1 1 \n"
     ]
    }
   ],
   "source": [
    "n= int(input(\"enter the number here:  \"))\n",
    "\n",
    "\n",
    "i=1\n",
    "while(i<=n):\n",
    "    j=1\n",
    "    while(j<=n):\n",
    "        \n",
    "        print(n-i+1, end=' ')\n",
    "        j+=1\n",
    "         \n",
    "    print()    \n",
    "    i+=1   "
   ]
  },
  {
   "cell_type": "code",
   "execution_count": 8,
   "id": "2b6291d5",
   "metadata": {},
   "outputs": [
    {
     "name": "stdout",
     "output_type": "stream",
     "text": [
      "enter the number here:  5\n",
      "5 4 3 2 1 \n",
      "5 4 3 2 1 \n",
      "5 4 3 2 1 \n",
      "5 4 3 2 1 \n",
      "5 4 3 2 1 \n"
     ]
    }
   ],
   "source": [
    "n= int(input(\"enter the number here:  \"))\n",
    "\n",
    "\n",
    "i=1\n",
    "while(i<=n):\n",
    "    j=1\n",
    "    while(j<=n):\n",
    "        \n",
    "        print(n-j+1, end=' ')\n",
    "        j+=1\n",
    "         \n",
    "    print()    \n",
    "    i+=1   \n",
    "   "
   ]
  },
  {
   "cell_type": "code",
   "execution_count": 9,
   "id": "45261b0e",
   "metadata": {},
   "outputs": [
    {
     "name": "stdout",
     "output_type": "stream",
     "text": [
      "enter the number here:  5\n",
      "5 6 7 8 9 \n",
      "4 5 6 7 8 \n",
      "3 4 5 6 7 \n",
      "2 3 4 5 6 \n",
      "1 2 3 4 5 \n"
     ]
    }
   ],
   "source": [
    "n= int(input(\"enter the number here:  \"))\n",
    "i=1\n",
    "while(i<=n):\n",
    "    j=1\n",
    "    while(j<=n):\n",
    "        \n",
    "        print(n-i+j, end=' ')\n",
    "        j+=1\n",
    "        \n",
    "    print()    \n",
    "    i+=1   \n",
    "   "
   ]
  },
  {
   "cell_type": "markdown",
   "id": "4e36a090",
   "metadata": {},
   "source": [
    "# Pattern in Triangle Form"
   ]
  },
  {
   "cell_type": "code",
   "execution_count": 10,
   "id": "8c9939a0",
   "metadata": {},
   "outputs": [
    {
     "name": "stdout",
     "output_type": "stream",
     "text": [
      "Enter yhe number here: 5\n",
      "*\n",
      "**\n",
      "***\n",
      "****\n",
      "*****\n"
     ]
    }
   ],
   "source": [
    "n = int(input('Enter yhe number here: '))\n",
    "\n",
    "i=1\n",
    "while(i<=n):\n",
    "    j=1\n",
    "    while(j<=i):\n",
    "        print(\"*\",end='')\n",
    "        j+=1\n",
    "    print()   \n",
    "    i+=1    "
   ]
  },
  {
   "cell_type": "code",
   "execution_count": 11,
   "id": "ce3350ad",
   "metadata": {},
   "outputs": [
    {
     "name": "stdout",
     "output_type": "stream",
     "text": [
      "Enter yhe number here: 5\n",
      "1\n",
      "22\n",
      "333\n",
      "4444\n",
      "55555\n"
     ]
    }
   ],
   "source": [
    "n = int(input('Enter yhe number here: '))\n",
    "\n",
    "i=1\n",
    "while(i<=n):\n",
    "    j=1\n",
    "    while(j<=i):\n",
    "        print(i,end='')\n",
    "        j+=1\n",
    "    print()   \n",
    "    i+=1    "
   ]
  },
  {
   "cell_type": "code",
   "execution_count": 12,
   "id": "dcd34a1d",
   "metadata": {},
   "outputs": [
    {
     "name": "stdout",
     "output_type": "stream",
     "text": [
      "Enter yhe number here: 5\n",
      "1\n",
      "12\n",
      "123\n",
      "1234\n",
      "12345\n"
     ]
    }
   ],
   "source": [
    "n = int(input('Enter yhe number here: '))\n",
    "\n",
    "i=1\n",
    "while(i<=n):\n",
    "    j=1\n",
    "    while(j<=i):\n",
    "        print(j,end='')\n",
    "        j+=1\n",
    "    print()   \n",
    "    i+=1    "
   ]
  },
  {
   "cell_type": "code",
   "execution_count": 13,
   "id": "be74961d",
   "metadata": {},
   "outputs": [
    {
     "name": "stdout",
     "output_type": "stream",
     "text": [
      "Enter yhe number here: 5\n",
      "1\n",
      "21\n",
      "321\n",
      "4321\n",
      "54321\n"
     ]
    }
   ],
   "source": [
    "n = int(input('Enter yhe number here: '))\n",
    "\n",
    "i=1\n",
    "while(i<=n):\n",
    "    j=1\n",
    "    while(j<=i):\n",
    "        print(i-j+1,end='')\n",
    "        j+=1\n",
    "    print()   \n",
    "    i+=1    "
   ]
  },
  {
   "cell_type": "code",
   "execution_count": 14,
   "id": "47884d92",
   "metadata": {},
   "outputs": [
    {
     "name": "stdout",
     "output_type": "stream",
     "text": [
      "Enter yhe number here: 5\n",
      "1\n",
      "23\n",
      "345\n",
      "4567\n",
      "56789\n"
     ]
    }
   ],
   "source": [
    "n = int(input('Enter yhe number here: '))\n",
    "\n",
    "i=1\n",
    "while(i<=n):\n",
    "    j=1\n",
    "    while(j<=i):\n",
    "        print( i+j-1,end='')\n",
    "        \n",
    "        j+=1\n",
    "        \n",
    "    print()   \n",
    "    i+=1    "
   ]
  },
  {
   "cell_type": "code",
   "execution_count": 15,
   "id": "e8bd9181",
   "metadata": {},
   "outputs": [
    {
     "name": "stdout",
     "output_type": "stream",
     "text": [
      "Enter yhe number here: 5\n",
      "1\n",
      "23\n",
      "456\n",
      "78910\n",
      "1112131415\n"
     ]
    }
   ],
   "source": [
    "n = int(input('Enter yhe number here: '))\n",
    "\n",
    "i=1\n",
    "count=1\n",
    "while(i<=n):\n",
    "    j=1\n",
    "    while(j<=i):\n",
    "        print( count,end='')\n",
    "        count+=1\n",
    "        j+=1\n",
    "        \n",
    "    print()   \n",
    "    i+=1    "
   ]
  },
  {
   "cell_type": "markdown",
   "id": "c9c59779",
   "metadata": {},
   "source": [
    "# Pattern of Alphabets\n",
    "\n",
    "\n",
    "\n",
    "- ### In python we print Aplhabets in the following ways\n",
    "\n",
    "- ### n= input from user\n",
    "- ### x= ord('A')     ------This is a function ord('')  in python for getting Ascii value of a char\n",
    "\n",
    "- ##  ord('')\n",
    "\n",
    "- ### AsciTarget= x+n-1\n",
    "- ### targetChar = char(AsciTarget)\n",
    "- ### Printing(targetChar)\n"
   ]
  },
  {
   "cell_type": "code",
   "execution_count": 16,
   "id": "81e4cce5",
   "metadata": {},
   "outputs": [
    {
     "name": "stdout",
     "output_type": "stream",
     "text": [
      "65\n",
      "A\n",
      "B\n"
     ]
    }
   ],
   "source": [
    "print(ord('A'))\n",
    "print(chr(65))\n",
    "\n",
    "print(chr(ord('A')+1))"
   ]
  },
  {
   "cell_type": "code",
   "execution_count": 17,
   "id": "50b48f95",
   "metadata": {},
   "outputs": [
    {
     "name": "stdout",
     "output_type": "stream",
     "text": [
      "Enter the number here:  5\n",
      "ABCDE\n",
      "ABCDE\n",
      "ABCDE\n",
      "ABCDE\n",
      "ABCDE\n"
     ]
    }
   ],
   "source": [
    "n=int(input(\"Enter the number here:  \"))\n",
    "\n",
    "\n",
    "i=1\n",
    "while(i<=n):\n",
    "    j=1\n",
    "    while(j<=n):\n",
    "        Achii= chr(ord('A')+j-1)\n",
    "        print( Achii, end='')\n",
    "        j+=1\n",
    "    print()\n",
    "    i+=1"
   ]
  },
  {
   "cell_type": "code",
   "execution_count": 18,
   "id": "7c6199ab",
   "metadata": {},
   "outputs": [
    {
     "name": "stdout",
     "output_type": "stream",
     "text": [
      "En ter the number here:  5\n",
      "ABCDE\n",
      "BCDEF\n",
      "CDEFG\n",
      "DEFGH\n",
      "EFGHI\n"
     ]
    }
   ],
   "source": [
    "n=int(input(\"En ter the number here:  \"))\n",
    "\n",
    "\n",
    "i=1\n",
    "while(i<=n):\n",
    "    j=1\n",
    "    while(j<=n):\n",
    "        AchiiO= chr(ord('A')+i-1)\n",
    "        \n",
    "        Achii= chr(ord(  AchiiO  )+j-1)\n",
    "        \n",
    "        print( Achii, end='')\n",
    "        j+=1\n",
    "    print()  \n",
    "    i+=1"
   ]
  },
  {
   "cell_type": "markdown",
   "id": "b179f47a",
   "metadata": {},
   "source": [
    "# Pattern in Triangle Form(Alphabets)"
   ]
  },
  {
   "cell_type": "code",
   "execution_count": 19,
   "id": "2ec24bb3",
   "metadata": {},
   "outputs": [
    {
     "name": "stdout",
     "output_type": "stream",
     "text": [
      "Enter the number here:  5\n",
      "A\n",
      "BB\n",
      "CCC\n",
      "DDDD\n",
      "EEEEE\n"
     ]
    }
   ],
   "source": [
    "n=int(input(\"Enter the number here:  \"))\n",
    "\n",
    "\n",
    "i=1\n",
    "while(i<=n):\n",
    "    j=1\n",
    "    while(j<=i):\n",
    "        Achii= chr(ord('A')+i-1)\n",
    "        print( Achii, end='')\n",
    "        j+=1\n",
    "    print()\n",
    "    i+=1"
   ]
  },
  {
   "cell_type": "code",
   "execution_count": 20,
   "id": "20ee65fa",
   "metadata": {},
   "outputs": [
    {
     "name": "stdout",
     "output_type": "stream",
     "text": [
      "En ter the number here:  5\n",
      "A\n",
      "BC\n",
      "CDE\n",
      "DEFG\n",
      "EFGHI\n"
     ]
    }
   ],
   "source": [
    "n=int(input(\"En ter the number here:  \"))\n",
    "\n",
    "\n",
    "i=1\n",
    "while(i<=n):\n",
    "    j=1\n",
    "    while(j<=i):\n",
    "        AchiiO= chr(ord('A')+i-1)\n",
    "        \n",
    "        Achii= chr(ord(  AchiiO  )+j-1)\n",
    "        \n",
    "        print( Achii, end='')\n",
    "        j+=1\n",
    "    print()  \n",
    "    i+=1"
   ]
  },
  {
   "cell_type": "code",
   "execution_count": 21,
   "id": "1f971342",
   "metadata": {},
   "outputs": [
    {
     "name": "stdout",
     "output_type": "stream",
     "text": [
      "En ter the number here:  5\n",
      "E\n",
      "DE\n",
      "CDE\n",
      "BCDE\n",
      "ABCDE\n"
     ]
    }
   ],
   "source": [
    "n=int(input(\"En ter the number here:  \"))\n",
    "\n",
    "\n",
    "i=1\n",
    "while(i<=n):\n",
    "    j=1\n",
    "    while(j<=i):\n",
    "        Achii0= chr(ord('A')+n-i+j-1)\n",
    "     \n",
    "      #  Achii1= chr(ord(  Achii0)+j-1)\n",
    "        \n",
    "        print( Achii0, end='')\n",
    "        j+=1\n",
    "    print()  \n",
    "    i+=1"
   ]
  },
  {
   "cell_type": "code",
   "execution_count": 22,
   "id": "c196c1b7",
   "metadata": {},
   "outputs": [
    {
     "name": "stdout",
     "output_type": "stream",
     "text": [
      "En ter the number here:  5\n",
      "E\n",
      "DE\n",
      "CDE\n",
      "BCDE\n",
      "ABCDE\n"
     ]
    }
   ],
   "source": [
    "n=int(input(\"En ter the number here:  \"))\n",
    "\n",
    "\n",
    "i=1\n",
    "while(i<=n):\n",
    "    j=1\n",
    "    while(j<=i):\n",
    "        Achii= chr(ord('A')+n)\n",
    "        Achii0= chr(ord(Achii)-i)\n",
    "        Achii1= chr(ord(Achii0)+j-1)\n",
    "        \n",
    "        print( Achii1, end='')\n",
    "        j+=1\n",
    "    print()  \n",
    "    i+=1"
   ]
  },
  {
   "cell_type": "markdown",
   "id": "27b23afa",
   "metadata": {},
   "source": [
    "## Inverted Triangle Pattern"
   ]
  },
  {
   "cell_type": "code",
   "execution_count": 23,
   "id": "41f2e93b",
   "metadata": {},
   "outputs": [
    {
     "name": "stdout",
     "output_type": "stream",
     "text": [
      "enter the number here:  5\n",
      "*****\n",
      "****\n",
      "***\n",
      "**\n",
      "*\n"
     ]
    }
   ],
   "source": [
    "n= int(input(\"enter the number here:  \"))\n",
    "\n",
    "i=1\n",
    "while(i<=n):\n",
    "    j=1\n",
    "    while(j<=n-i+1):\n",
    "        print(\"*\", end='')\n",
    "        j+=1\n",
    "    print()    \n",
    "    i+=1    "
   ]
  },
  {
   "cell_type": "code",
   "execution_count": 24,
   "id": "086184c2",
   "metadata": {},
   "outputs": [
    {
     "name": "stdout",
     "output_type": "stream",
     "text": [
      "enter the number here:  5\n",
      "55555\n",
      "4444\n",
      "333\n",
      "22\n",
      "1\n"
     ]
    }
   ],
   "source": [
    "n= int(input(\"enter the number here:  \"))\n",
    "\n",
    "i=1\n",
    "while(i<=n):\n",
    "    j=1\n",
    "    while(j<=n-i+1):\n",
    "        print(n-i+1, end='')\n",
    "        j+=1\n",
    "    print()    \n",
    "    i+=1    "
   ]
  },
  {
   "cell_type": "markdown",
   "id": "6714b171",
   "metadata": {},
   "source": [
    "# Isosceles triangle Pattern"
   ]
  },
  {
   "cell_type": "code",
   "execution_count": 25,
   "id": "e4f12d87",
   "metadata": {},
   "outputs": [
    {
     "name": "stdout",
     "output_type": "stream",
     "text": [
      "enter the number here:  5\n",
      "     *\n",
      "    ***\n",
      "   *****\n",
      "  *******\n",
      " *********\n"
     ]
    }
   ],
   "source": [
    "n= int(input(\"enter the number here:  \"))\n",
    "\n",
    "i=1\n",
    "while(i<=n):\n",
    "    j=1\n",
    "    while(j<=n-i+1):\n",
    "        print(\" \", end='')\n",
    "        j+=1\n",
    "    k=1 \n",
    "    while(k<i):\n",
    "        print('*', end='')\n",
    "        k+=1   \n",
    "    p=1\n",
    "    while(p<=i):\n",
    "        print('*', end='')\n",
    "        p+=1         \n",
    "    print()    \n",
    "    i+=1"
   ]
  },
  {
   "cell_type": "code",
   "execution_count": 26,
   "id": "cabbbe2e",
   "metadata": {},
   "outputs": [
    {
     "name": "stdout",
     "output_type": "stream",
     "text": [
      "enter the number here:  5\n",
      "     1\n",
      "    121\n",
      "   12321\n",
      "  1234321\n",
      " 123454321\n"
     ]
    }
   ],
   "source": [
    "n= int(input(\"enter the number here:  \"))\n",
    "\n",
    "i=1\n",
    "while(i<=n):\n",
    "    j=1\n",
    "    while(j<=n-i+1):\n",
    "        print(\" \", end='')\n",
    "        j+=1\n",
    "    k=1 \n",
    "    while(k<i):\n",
    "        print(k, end='')\n",
    "        k+=1   \n",
    "    p=1\n",
    "    while(p<=i):\n",
    "        print(i-p+1, end='')\n",
    "        p+=1         \n",
    "    print()    \n",
    "    i+=1\n",
    "     "
   ]
  },
  {
   "cell_type": "code",
   "execution_count": 27,
   "id": "4c0ed1f7",
   "metadata": {
    "scrolled": false
   },
   "outputs": [
    {
     "name": "stdout",
     "output_type": "stream",
     "text": [
      "____1\n",
      "___232\n",
      "__34543\n",
      "_4567654\n",
      "567898765\n"
     ]
    }
   ],
   "source": [
    "n= 5\n",
    "\n",
    "i=1\n",
    "while(i<=n):\n",
    "    j=1\n",
    "    while(j <= n-i):\n",
    "        print(\"_\", end='')\n",
    "        j+=1\n",
    "    k=1 \n",
    "    while(k<=i):\n",
    "        print(i+k-1, end='')\n",
    "        k+=1   \n",
    "    p=1\n",
    "    while(p<i):\n",
    "        print((2*i-p)-1 ,end='')\n",
    "     \n",
    "        p+=1\n",
    "    print()    \n",
    "    i+=1"
   ]
  },
  {
   "cell_type": "code",
   "execution_count": 28,
   "id": "26b5cbb5",
   "metadata": {},
   "outputs": [
    {
     "name": "stdout",
     "output_type": "stream",
     "text": [
      "    1 \n",
      "   232 \n",
      "  34543 \n",
      " 4567654 \n",
      "567898765 \n"
     ]
    }
   ],
   "source": [
    "n=5\n",
    " \n",
    "for i in range(1,n+1,1):\n",
    " \n",
    "   \n",
    "    for s in range(n-i):\n",
    "        print(\" \", end='')\n",
    "        \n",
    "    for j in range(i,2*i,1):\n",
    "        print(j,end='')\n",
    "        \n",
    "    for j in range(2*i-2, i-1, -1):\n",
    "        print(j,end='')\n",
    "            \n",
    "    print(' ')"
   ]
  }
 ],
 "metadata": {
  "kernelspec": {
   "display_name": "Python 3 (ipykernel)",
   "language": "python",
   "name": "python3"
  },
  "language_info": {
   "codemirror_mode": {
    "name": "ipython",
    "version": 3
   },
   "file_extension": ".py",
   "mimetype": "text/x-python",
   "name": "python",
   "nbconvert_exporter": "python",
   "pygments_lexer": "ipython3",
   "version": "3.9.12"
  }
 },
 "nbformat": 4,
 "nbformat_minor": 5
}
