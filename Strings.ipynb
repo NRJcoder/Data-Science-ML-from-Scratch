{
 "cells": [
  {
   "cell_type": "code",
   "execution_count": 4,
   "id": "27a6f9a2",
   "metadata": {},
   "outputs": [
    {
     "ename": "SyntaxError",
     "evalue": "invalid syntax (1195356861.py, line 18)",
     "output_type": "error",
     "traceback": [
      "\u001b[1;36m  Input \u001b[1;32mIn [4]\u001b[1;36m\u001b[0m\n\u001b[1;33m    a[9]'ee' # String are immuteable, that way you cant't change the string\u001b[0m\n\u001b[1;37m        ^\u001b[0m\n\u001b[1;31mSyntaxError\u001b[0m\u001b[1;31m:\u001b[0m invalid syntax\n"
     ]
    }
   ],
   "source": [
    "a= \"My name is Niraj mate\"\n",
    "b= \"12345\"\n",
    "c=\"q\"\n",
    "\n",
    "print(type(a))\n",
    "print(type(b))\n",
    "print(type(c))\n",
    "\n",
    "print()\n",
    "print(type(a[8]))\n",
    "\n",
    "print()\n",
    "print(a[3])\n",
    "\n",
    "print()\n",
    "\n",
    "#gets errors\n",
    "a[9]'ee' # String are immuteable, that way you cant't change the string "
   ]
  },
  {
   "cell_type": "code",
   "execution_count": 5,
   "id": "aa017c9a",
   "metadata": {},
   "outputs": [
    {
     "name": "stdout",
     "output_type": "stream",
     "text": [
      "My name is Niraj mate"
     ]
    }
   ],
   "source": [
    "for i in a:\n",
    "    print(i,end='')\n"
   ]
  },
  {
   "cell_type": "code",
   "execution_count": 6,
   "id": "91ec4125",
   "metadata": {},
   "outputs": [
    {
     "name": "stdout",
     "output_type": "stream",
     "text": [
      "this is Niraj's Pen\n",
      "\n",
      "this is Niraj mate  He said \"Life is great\" \n",
      "this is Niraj mate He said \"Life is great\" \n",
      "this is Niraj mate He said \"Life is great\" \n"
     ]
    }
   ],
   "source": [
    "a=\"this is Niraj mate \"\n",
    "b= 'He said \"Life is great\" '\n",
    "c= 'this is Niraj\\'s Pen'    # <== used the \" \\ \" for telling python its not the part of the string.\n",
    "print(c)\n",
    "print()\n",
    "print(a,b)\n",
    "print(a+b)\n",
    "\n",
    "a=a+b\n",
    "print(a)"
   ]
  },
  {
   "cell_type": "code",
   "execution_count": 7,
   "id": "cb908032",
   "metadata": {},
   "outputs": [
    {
     "name": "stdout",
     "output_type": "stream",
     "text": [
      "False\n",
      "False\n"
     ]
    }
   ],
   "source": [
    "t=a==b\n",
    "print(t)\n",
    "\n",
    "t= a<b\n",
    "print(t)"
   ]
  },
  {
   "cell_type": "markdown",
   "id": "caaba76f",
   "metadata": {},
   "source": [
    "## 'split()' function"
   ]
  },
  {
   "cell_type": "code",
   "execution_count": 8,
   "id": "ebf4054d",
   "metadata": {},
   "outputs": [
    {
     "name": "stdout",
     "output_type": "stream",
     "text": [
      "['My', 'name', 'is', 'Niraj', 'mate']\n"
     ]
    }
   ],
   "source": [
    "a= \"My name is Niraj mate\"\n",
    "s= a.split()\n",
    "print(s)"
   ]
  },
  {
   "cell_type": "code",
   "execution_count": 9,
   "id": "830039ad",
   "metadata": {},
   "outputs": [
    {
     "name": "stdout",
     "output_type": "stream",
     "text": [
      "['My name is Niraj mate, i am stud', 'g ', ' NCER, ', ' Computer science eng', 'err', 'g']\n"
     ]
    }
   ],
   "source": [
    "a= \"My name is Niraj mate, i am studing in NCER, in Computer science enginerring\"\n",
    "s=a.split('in')\n",
    "print(s)"
   ]
  },
  {
   "cell_type": "markdown",
   "id": "0da10e84",
   "metadata": {},
   "source": [
    "## 'replace()' function"
   ]
  },
  {
   "cell_type": "code",
   "execution_count": 12,
   "id": "82ac9949",
   "metadata": {},
   "outputs": [
    {
     "name": "stdout",
     "output_type": "stream",
     "text": [
      "My name is Neeraj mate, i am studing in NCER, in Computer science enginerring\n"
     ]
    }
   ],
   "source": [
    "r=a.replace(\"Niraj\", \"Neeraj\")\n",
    "print(r)"
   ]
  },
  {
   "cell_type": "markdown",
   "id": "9aa66dba",
   "metadata": {},
   "source": [
    "## 'find()' function"
   ]
  },
  {
   "cell_type": "code",
   "execution_count": 83,
   "id": "7934ff67",
   "metadata": {},
   "outputs": [
    {
     "name": "stdout",
     "output_type": "stream",
     "text": [
      "11\n",
      "-1\n"
     ]
    }
   ],
   "source": [
    "a= \"My name is Niraj mate\"\n",
    "f=a.find(\"N\")\n",
    "print(f)\n",
    "f=a.find(\"college\")\n",
    "print(f) "
   ]
  },
  {
   "cell_type": "markdown",
   "id": "a13b188a",
   "metadata": {},
   "source": [
    "## 'lower()' function"
   ]
  },
  {
   "cell_type": "code",
   "execution_count": 26,
   "id": "3753ef5e",
   "metadata": {},
   "outputs": [
    {
     "name": "stdout",
     "output_type": "stream",
     "text": [
      "my name is niraj mate, i am studing in ncer, in computer science enginerring\n"
     ]
    }
   ],
   "source": [
    "l= a.lower()\n",
    "print(l)"
   ]
  },
  {
   "cell_type": "markdown",
   "id": "73c16f53",
   "metadata": {},
   "source": [
    "## 'upper()' function"
   ]
  },
  {
   "cell_type": "code",
   "execution_count": 55,
   "id": "b5b5d490",
   "metadata": {},
   "outputs": [
    {
     "name": "stdout",
     "output_type": "stream",
     "text": [
      "MY NAME IS NIRAJ MATE, I AM STUDING IN NCER, IN COMPUTER SCIENCE ENGINERRING\n"
     ]
    }
   ],
   "source": [
    "u=a.upper()\n",
    "print(u)\n"
   ]
  },
  {
   "cell_type": "markdown",
   "id": "49a16033",
   "metadata": {},
   "source": [
    "## 'islower()' function"
   ]
  },
  {
   "cell_type": "code",
   "execution_count": 42,
   "id": "c909515e",
   "metadata": {},
   "outputs": [
    {
     "name": "stdout",
     "output_type": "stream",
     "text": [
      "True\n"
     ]
    }
   ],
   "source": [
    "a1=\"mynameisnirajmate\"\n",
    "i=a1.islower()\n",
    "print(i)"
   ]
  },
  {
   "cell_type": "markdown",
   "id": "1e3999ec",
   "metadata": {},
   "source": [
    "## 'isupper()' function"
   ]
  },
  {
   "cell_type": "code",
   "execution_count": 43,
   "id": "ac216703",
   "metadata": {},
   "outputs": [
    {
     "name": "stdout",
     "output_type": "stream",
     "text": [
      "True\n"
     ]
    }
   ],
   "source": [
    "a1=\"MY NAME IS NIRAJ\"\n",
    "i=a1.isupper()\n",
    "print(i)"
   ]
  },
  {
   "cell_type": "markdown",
   "id": "7b921dfb",
   "metadata": {},
   "source": [
    "## 'isalpha()' function\n",
    "-if the string contain Spaces, Number SpecialCharacter, its going to false"
   ]
  },
  {
   "cell_type": "code",
   "execution_count": 47,
   "id": "d8a91d1e",
   "metadata": {},
   "outputs": [
    {
     "name": "stdout",
     "output_type": "stream",
     "text": [
      "True\n",
      "False\n"
     ]
    }
   ],
   "source": [
    "A2= \"ASDFGHJJKLasdfghjkl\"\n",
    "\n",
    "isa=A2.isalpha()\n",
    "print(isa)\n",
    "\n",
    "a2= \"ASDFGHJJKL asdfghjkl\"\n",
    "\n",
    "isa=a2.isalpha()\n",
    "print(isa)"
   ]
  },
  {
   "cell_type": "markdown",
   "id": "0a4fb154",
   "metadata": {},
   "source": [
    "## 'startswith()' function"
   ]
  },
  {
   "cell_type": "code",
   "execution_count": 49,
   "id": "3faac71f",
   "metadata": {},
   "outputs": [
    {
     "name": "stdout",
     "output_type": "stream",
     "text": [
      "True\n"
     ]
    }
   ],
   "source": [
    "ss=a.startswith(\"My\")\n",
    "print(ss)"
   ]
  },
  {
   "cell_type": "markdown",
   "id": "7a7f8dad",
   "metadata": {},
   "source": [
    "## 'endswith()' function"
   ]
  },
  {
   "cell_type": "code",
   "execution_count": 51,
   "id": "6a7b60cc",
   "metadata": {},
   "outputs": [
    {
     "name": "stdout",
     "output_type": "stream",
     "text": [
      "True\n"
     ]
    }
   ],
   "source": [
    "ss=a.endswith(\"enginerring\")\n",
    "print(ss)"
   ]
  }
 ],
 "metadata": {
  "kernelspec": {
   "display_name": "Python 3 (ipykernel)",
   "language": "python",
   "name": "python3"
  },
  "language_info": {
   "codemirror_mode": {
    "name": "ipython",
    "version": 3
   },
   "file_extension": ".py",
   "mimetype": "text/x-python",
   "name": "python",
   "nbconvert_exporter": "python",
   "pygments_lexer": "ipython3",
   "version": "3.9.12"
  }
 },
 "nbformat": 4,
 "nbformat_minor": 5
}
