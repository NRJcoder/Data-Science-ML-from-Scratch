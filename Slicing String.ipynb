{
 "cells": [
  {
   "cell_type": "markdown",
   "id": "a57a9d3c",
   "metadata": {},
   "source": [
    "#  slicing String.\n",
    "## - a = \"asdfghjkl\"\n",
    "## - a[Startindex, Endindex]\n",
    "## - a[si,ei]slicing String.\n",
    "- a = \"asdfghjkl\"\n",
    "- a[Startindex, Endindex]\n",
    "- a[si,ei]"
   ]
  },
  {
   "cell_type": "code",
   "execution_count": null,
   "id": "8061e232",
   "metadata": {},
   "outputs": [],
   "source": [
    "a= 'This is Scling'\n",
    "s=a[0:10]\n",
    "print(s) \n",
    "\n",
    "s=a[4:]\n",
    "print(s)\n",
    "\n",
    "s=a[:9]\n",
    "print(s)\n",
    "\n",
    "s=a[:]\n",
    "print(s)\n"
   ]
  },
  {
   "cell_type": "code",
   "execution_count": 1,
   "id": "c19d4cef",
   "metadata": {},
   "outputs": [
    {
     "name": "stdout",
     "output_type": "stream",
     "text": [
      "htwyyucn hnetesrn\n"
     ]
    }
   ],
   "source": [
    "a= 'that way you cant change the string'\n",
    "s=a[1:35:2]\n",
    "print(s)\n",
    "\n"
   ]
  },
  {
   "cell_type": "code",
   "execution_count": 3,
   "id": "25012656",
   "metadata": {},
   "outputs": [
    {
     "name": "stdout",
     "output_type": "stream",
     "text": [
      "ts eht egnahc tnac uoy yaw t\n"
     ]
    }
   ],
   "source": [
    "a= 'that way you cant change the string'\n",
    "s=a[30:2:-1]\n",
    "print(s)"
   ]
  },
  {
   "cell_type": "code",
   "execution_count": 2,
   "id": "fd5f76ad",
   "metadata": {},
   "outputs": [
    {
     "name": "stdout",
     "output_type": "stream",
     "text": [
      "sadswxdsdswxdsx\n",
      "sadswydsdswxdsx\n"
     ]
    }
   ],
   "source": [
    "s=input()\n",
    "a='x'\n",
    "b='y'\n",
    "\n",
    "p=s.find(a)\n",
    "ans=s\n",
    "if(p!=-1):\n",
    "    ans=s[:p]+b+s[p+1:]\n",
    "print(ans)\n",
    "    "
   ]
  },
  {
   "cell_type": "code",
   "execution_count": 1,
   "id": "31ee651a",
   "metadata": {},
   "outputs": [
    {
     "name": "stdout",
     "output_type": "stream",
     "text": [
      "sfdcscxcxc\n",
      "sfdcscycyc\n"
     ]
    }
   ],
   "source": [
    "s=input()\n",
    "a='x'\n",
    "b='y'\n",
    "\n",
    "ans= s\n",
    "for i in range(0,len(ans)):\n",
    "    if(ans[i]==a):\n",
    "        ans=ans[:i]+b+ans[i+1:]\n",
    "print(ans)"
   ]
  },
  {
   "cell_type": "code",
   "execution_count": null,
   "id": "0a658c38",
   "metadata": {},
   "outputs": [],
   "source": []
  },
  {
   "cell_type": "code",
   "execution_count": null,
   "id": "122fc39d",
   "metadata": {},
   "outputs": [],
   "source": []
  }
 ],
 "metadata": {
  "kernelspec": {
   "display_name": "Python 3 (ipykernel)",
   "language": "python",
   "name": "python3"
  },
  "language_info": {
   "codemirror_mode": {
    "name": "ipython",
    "version": 3
   },
   "file_extension": ".py",
   "mimetype": "text/x-python",
   "name": "python",
   "nbconvert_exporter": "python",
   "pygments_lexer": "ipython3",
   "version": "3.9.12"
  }
 },
 "nbformat": 4,
 "nbformat_minor": 5
}
